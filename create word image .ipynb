{
 "cells": [
  {
   "cell_type": "code",
   "execution_count": 1,
   "metadata": {},
   "outputs": [],
   "source": [
    "#!/usr/bin/python3\n",
    "\n",
    "##############################\n",
    "#          IMPORTS\n",
    "##############################\n",
    "from wordcloud_fa import WordCloudFa\n",
    "from numpy import array as np_array\n",
    "from PIL import Image as PIL_Image\n",
    "from clipboard import paste\n",
    "from os.path import exists as path_exists\n",
    "from os import makedirs\n",
    "from matplotlib import pyplot as plt\n",
    "######################################\n",
    "#             CONFIGS\n",
    "######################################\n",
    "MASK = \"./mask.png\"\n",
    "\n",
    "FONT = \"../assets/fonts/font2.ttf\"\n",
    "FONT = \"../assets/fonts/shabnam/Shabnam.ttf\"\n",
    "\n",
    "OUT_FOLDER = \"out/\"\n",
    "\n",
    "BG_COLOR = \"black\"\n",
    "\n",
    "###############\n",
    "#if you have unfollow cheker\n",
    "# or some thing that post automatically tweet with link\n",
    "# turn on this option to remove all tweets with links (and links and quets)\n",
    "###########\n",
    "NO_LINK = False\n",
    "\n",
    "###############\n",
    "# to create cloud based on tweets\n",
    "# and not replies\n",
    "# set above boolean to True\n",
    "# use with cautopn\n",
    "####################\n",
    "NO_REPLIES = True\n",
    "\n",
    "#############\n",
    "#this option is for ignoring retweets\n",
    "#because in default we want to create cloud only based on user tweets\n",
    "#not retweets\n",
    "##############\n",
    "NO_RETWEET = True\n",
    "\n",
    "STOP_WRODS_LIST =[\n",
    "    \"./stopwords_me.txt\",\n",
    "    \"./origianl_stop_words.txt\",\n",
    "    \"./addtional_stops.txt\",\n",
    "]\n",
    "\n",
    "\n",
    "#########################################\n",
    "#              the CODE\n",
    "#########################################\n",
    "\n",
    "def load_stop_words():\n",
    "    \"\"\"\n",
    "    load stop words and return them as a set\n",
    "    it load from 3 files that wrote in STOP_WORDS_LIST\n",
    "    \"\"\"\n",
    "    words = []\n",
    "    for file_add in STOP_WRODS_LIST:\n",
    "        with open(file_add,\"r\") as file:\n",
    "            new_words = file.read().split()\n",
    "            words+= new_words\n",
    "    return set(words)\n",
    "\n",
    "def clean_word(d):\n",
    "    \"\"\"\n",
    "        remove some bad words from input\n",
    "        for example twitter links\n",
    "        or remove nim fasele\n",
    "        or ...\n",
    "    \"\"\"\n",
    "    d.replace(\"\\u200c\",\"\")\n",
    "    if \"t.co\" in d : return \"\"\n",
    "    if len(d) <3: return \"\"\n",
    "    if \"-\" in d : return \"\"\n",
    "\n",
    "    if \" می\" in d  or \"شه\" in d  : return \"\"\n",
    "    if \"بیش\" in d  : return \"\"\n",
    "    if \"می\" in d : return \"\"\n",
    "    if d == \"ست\" : return \"\"\n",
    "    if \"خیلی\" in d : return \"\"\n",
    "    if \"ولی\" in d : return \"\"\n",
    "\n",
    "    return d\n",
    "\n",
    "def extract_text(line):\n",
    "    \"\"\"\n",
    "        get a line of input\n",
    "        and remove junk file of it\n",
    "        and clean each word ant etc..\n",
    "    \"\"\"\n",
    "    words = line.strip().split(\" \")\n",
    "\n",
    "    if NO_LINK and \"t.co\" in line: return \"\" # linkdar ha ro hazf kon\n",
    "\n",
    "    while words[0].startswith(\"@\"): # mention ha ro hazf kon\n",
    "        if NO_REPLIES : return \"\" # kolan bikhial in tweet besho\n",
    "        words = words[1:]\n",
    "\n",
    "    if NO_RETWEET and words[0] == \"RT\" : return \"\" # retwetts ha ro hazf kon\n",
    "\n",
    "    words = words[:-3] # remove date and time\n",
    "\n",
    "    words_cleaned = [ clean_word(t) for t in words ]\n",
    "    return \" \".join(words_cleaned)\n",
    "\n",
    "\n",
    "def get_raw_str():\n",
    "    \"\"\"\n",
    "        get input from input source\n",
    "        either clipboard or the input file\n",
    "    \"\"\"\n",
    "    file_name = input(\"enter tweets filename: \")\n",
    "    if file_name.strip() == \"\" :\n",
    "        print(\"using clipboard as source\")\n",
    "        return paste()\n",
    "    else:\n",
    "        with open(file_name, \"r\") as input_file:\n",
    "            return input_file.read()\n",
    "\n",
    "def print_stats(text):\n",
    "    \"\"\"\n",
    "    show some statistics\n",
    "    to make sure that the program opened correct input file\n",
    "    \"\"\"\n",
    "    print( f\" len e kol : {len(text)}\")\n",
    "    print (f\"\"\"spaces count : { text.count(\" \") }\"\"\" )\n",
    "\n",
    "\n",
    "def make_dir(dir):\n",
    "    \"\"\"\n",
    "    make the output directory if it isnt there!\n",
    "    \"\"\"\n",
    "    if not path_exists(dir):\n",
    "        makedirs(dir)\n",
    "        print(f\"Created {dir} directory\")\n",
    "\n"
   ]
  },
  {
   "cell_type": "code",
   "execution_count": null,
   "metadata": {},
   "outputs": [],
   "source": [
    "\n"
   ]
  },
  {
   "cell_type": "code",
   "execution_count": 12,
   "metadata": {},
   "outputs": [
    {
     "name": "stdin",
     "output_type": "stream",
     "text": [
      "enter tweets filename:  luna.txt\n"
     ]
    },
    {
     "name": "stdout",
     "output_type": "stream",
     "text": [
      "working on @tahacodes اونطوری مغزت خراب میشه Oct 28, 2020\n",
      "\n"
     ]
    }
   ],
   "source": [
    "raw_str = get_raw_str()\n",
    "raw_list = raw_str.split(\"\\n\")\n",
    "try:\n",
    "    user_id = raw_list[3].replace(\"@\",\"\").strip()\n",
    "except IndexError:\n",
    "    print(\"bad input! please copy whole page\")\n",
    "    exit()\n",
    "\n",
    "print(f\"working on @{user_id}\\n\")\n"
   ]
  },
  {
   "cell_type": "code",
   "execution_count": 13,
   "metadata": {},
   "outputs": [],
   "source": [
    "raw_tweets_list = raw_list[10:-6] # remove up and down header footer\n",
    "text_list = [ extract_text(t) for t in raw_tweets_list ]\n",
    "text = \" \".join(text_list)\n"
   ]
  },
  {
   "cell_type": "code",
   "execution_count": 14,
   "metadata": {},
   "outputs": [
    {
     "data": {
      "text/plain": [
       "'      امشب قراره  پل'"
      ]
     },
     "execution_count": 14,
     "metadata": {},
     "output_type": "execute_result"
    }
   ],
   "source": [
    "text[0:20]"
   ]
  },
  {
   "cell_type": "code",
   "execution_count": 15,
   "metadata": {},
   "outputs": [],
   "source": [
    "import numpy as np\n",
    "from PIL import Image\n",
    "\n",
    "mask_array = np.array(Image.open(\"mask.png\"))"
   ]
  },
  {
   "cell_type": "code",
   "execution_count": 16,
   "metadata": {},
   "outputs": [],
   "source": [
    "\n",
    "\n",
    "wc= WordCloudFa(\n",
    "    width=900, height=900,\n",
    "    background_color=BG_COLOR,\n",
    "    mask = mask_array,\n",
    "    persian_normalize=True,\n",
    "    include_numbers=False,\n",
    ")\n"
   ]
  },
  {
   "cell_type": "code",
   "execution_count": 17,
   "metadata": {},
   "outputs": [],
   "source": [
    "def load_stop_words(stop_word_files):\n",
    "\n",
    "    words = []\n",
    "    for file_add in stop_word_files:\n",
    "        with open(file_add,\"r\") as file:\n",
    "            new_words = file.read().split()\n",
    "            words+= new_words\n",
    "    return set(words)\n"
   ]
  },
  {
   "cell_type": "code",
   "execution_count": 30,
   "metadata": {},
   "outputs": [],
   "source": [
    "STOP_WORD_FILES=['./addtional_stops.txt','./origianl_stop_words.txt','./stopwords_me.txt']\n",
    "stop_word=load_stop_words(STOP_WORD_FILES)\n",
    "wc.add_stop_words(stop_word)"
   ]
  },
  {
   "cell_type": "code",
   "execution_count": 31,
   "metadata": {},
   "outputs": [],
   "source": [
    "word_cloud=wc.generate(text)"
   ]
  },
  {
   "cell_type": "code",
   "execution_count": 32,
   "metadata": {},
   "outputs": [
    {
     "data": {
      "image/png": "[encoded data removed]",
      "text/plain": [
       "<Figure size 432x288 with 1 Axes>"
      ]
     },
     "metadata": {
      "needs_background": "light"
     },
     "output_type": "display_data"
    }
   ],
   "source": [
    "word_image = word_cloud.to_image()\n",
    "\n",
    "plt.imshow(word_image)\n",
    "plt.show()\n"
   ]
  },
  {
   "cell_type": "code",
   "execution_count": 21,
   "metadata": {},
   "outputs": [],
   "source": [
    "\n",
    "make_dir(OUT_FOLDER)\n",
    "word_image.save(\"wordimg.png\")\n",
    "\n",
    "\n",
    "\n"
   ]
  },
  {
   "cell_type": "code",
   "execution_count": null,
   "metadata": {},
   "outputs": [],
   "source": []
  },
  {
   "cell_type": "code",
   "execution_count": null,
   "metadata": {},
   "outputs": [],
   "source": []
  }
 ],
 "metadata": {
  "kernelspec": {
   "display_name": "Python 3",
   "language": "python",
   "name": "python3"
  },
  "language_info": {
   "codemirror_mode": {
    "name": "ipython",
    "version": 3
   },
   "file_extension": ".py",
   "mimetype": "text/x-python",
   "name": "python",
   "nbconvert_exporter": "python",
   "pygments_lexer": "ipython3",
   "version": "3.8.5"
  }
 },
 "nbformat": 4,
 "nbformat_minor": 4
}
